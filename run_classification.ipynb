{
 "cells": [
  {
   "cell_type": "code",
   "execution_count": null,
   "id": "ce28eca0-63f8-4baf-b161-7a42e61009bf",
   "metadata": {
    "tags": []
   },
   "outputs": [],
   "source": [
    "%load_ext autoreload\n",
    "%autoreload 2"
   ]
  },
  {
   "cell_type": "code",
   "execution_count": null,
   "id": "1baa89f6-d78d-4039-a123-7593667ee089",
   "metadata": {
    "tags": [
     "parameters"
    ]
   },
   "outputs": [],
   "source": [
    "# specify substep parameters for interactive run\n",
    "# this cell will be replaced during job run with the parameters from json within params subfolder\n",
    "substep_params={    \n",
    "}"
   ]
  },
  {
   "cell_type": "code",
   "execution_count": null,
   "id": "7bb2efe8-173e-44a9-b5d7-3a1fd4451c00",
   "metadata": {
    "tags": []
   },
   "outputs": [],
   "source": [
    "# load pipeline and step parameters - do not edit\n",
    "from sinara.substep import get_pipeline_params, get_step_params\n",
    "pipeline_params = get_pipeline_params(pprint=True)\n",
    "step_params = get_step_params(pprint=True)"
   ]
  },
  {
   "cell_type": "code",
   "execution_count": null,
   "id": "dc9323e4-bbb9-4154-a799-8d55f57e32b6",
   "metadata": {
    "tags": []
   },
   "outputs": [],
   "source": [
    "# define substep interface\n",
    "from sinara.substep import NotebookSubstep, ENV_NAME, PIPELINE_NAME, ZONE_NAME, STEP_NAME, RUN_ID, ENTITY_NAME, ENTITY_PATH, SUBSTEP_NAME\n",
    "\n",
    "substep = NotebookSubstep(pipeline_params, step_params, substep_params)\n",
    "\n",
    "substep.interface(\n",
    "    inputs =    \n",
    "    [ \n",
    "      { STEP_NAME: \"data_load\", ENTITY_NAME: \"meta_cifar10_datasets\"}, # meta information of dataset from data_load step\n",
    "      { STEP_NAME: \"data_prep\", ENTITY_NAME: \"cifar10_test_dataset\"}, # dataset for detector testing from data_prep step    \n",
    "      { STEP_NAME: \"model_pack\", ENTITY_NAME: \"bento_service\"}  # stored BentoService from model_pack\n",
    "    ],\n",
    "    tmp_outputs =\n",
    "    [\n",
    "        { ENTITY_NAME: \"meta_cifar10_datasets\"}, # extracted temporary meta information of dataset from data_load step\n",
    "        { ENTITY_NAME: \"cifar10_test_dataset\" },  # ground-true test dataset files for use in next substep\n",
    "        { ENTITY_NAME: \"cifar10_inference_result_dataset\" } # predicted test dataset files for use in next substep\n",
    "    ],\n",
    ")\n",
    "\n",
    "substep.print_interface_info()\n",
    "\n",
    "substep.exit_in_visualize_mode()"
   ]
  },
  {
   "cell_type": "code",
   "execution_count": null,
   "id": "2282229b-f077-4b01-8c9a-d7bfd4491004",
   "metadata": {},
   "outputs": [],
   "source": [
    "# specify all notebook wide libraries imports here\n",
    "# Sinara lib imports is left in the place of their usage\n",
    "import json\n",
    "from tqdm import tqdm\n",
    "import os\n",
    "import os.path as osp\n",
    "import glob\n",
    "import cv2\n",
    "import numpy as np\n",
    "import matplotlib.pyplot as plt\n",
    "import plotly.express as px"
   ]
  },
  {
   "cell_type": "code",
   "execution_count": null,
   "id": "0542910b-bd55-4cba-8b23-584c0fbd1310",
   "metadata": {
    "tags": []
   },
   "outputs": [],
   "source": [
    "# run spark\n",
    "from sinara.spark import SinaraSpark\n",
    "\n",
    "spark = SinaraSpark.run_session(0)\n",
    "SinaraSpark.ui_url()"
   ]
  },
  {
   "cell_type": "markdown",
   "id": "cd37f601-9a03-41b2-8bed-1d85b2f7d4d3",
   "metadata": {},
   "source": [
    "### Loading REST bento_service "
   ]
  },
  {
   "cell_type": "markdown",
   "id": "257bc90a-ee16-4810-8af9-58b9d00a943f",
   "metadata": {
    "tags": []
   },
   "source": [
    "#### Get and load bentoservice"
   ]
  },
  {
   "cell_type": "code",
   "execution_count": null,
   "id": "39c99362-0e5c-48ef-a67a-6e8e1e8e3984",
   "metadata": {
    "tags": []
   },
   "outputs": [],
   "source": [
    "from sinara.bentoml import load_bentoservice\n",
    "\n",
    "# read trained model\n",
    "print('read trained model')\n",
    "inputs_model_pack = substep.inputs(step_name = \"model_pack\")\n",
    "bento_service = load_bentoservice(inputs_model_pack.bento_service)"
   ]
  },
  {
   "cell_type": "markdown",
   "id": "7cb42400-030f-4deb-879c-ef874723462e",
   "metadata": {
    "tags": []
   },
   "source": [
    "### Loading test datasets (from step data_prep)"
   ]
  },
  {
   "cell_type": "code",
   "execution_count": null,
   "id": "f96481c5-a92d-4fcd-a870-54ed624b9d0f",
   "metadata": {
    "tags": []
   },
   "outputs": [],
   "source": [
    "from sinara.archive import SinaraArchive\n",
    "import json\n",
    "\n",
    "# copy test data from previos step (data_prep) to tmp\n",
    "inputs_data_prep = substep.inputs(step_name = \"data_prep\")\n",
    "inputs_data_load = substep.inputs(step_name = \"data_load\")\n",
    "tmp_outputs = substep.tmp_outputs()\n",
    "\n",
    "archive = SinaraArchive(spark)\n",
    "archive.unpack_files_from_store_to_tmp(store_path=inputs_data_prep.cifar10_test_dataset, tmp_dir=tmp_outputs.cifar10_test_dataset)\n",
    "archive.unpack_files_from_store_to_tmp(store_path=inputs_data_load.meta_cifar10_datasets, tmp_dir=tmp_outputs.meta_cifar10_datasets)"
   ]
  },
  {
   "cell_type": "markdown",
   "id": "e91a1a07-73f0-460a-af02-a1e9803bd4dd",
   "metadata": {},
   "source": [
    "## Inference by REST API bentoservice"
   ]
  },
  {
   "cell_type": "markdown",
   "id": "cf40f43f-a053-42d2-a965-520e145b4ebf",
   "metadata": {},
   "source": [
    "### Get meta information cifar10 dataset"
   ]
  },
  {
   "cell_type": "code",
   "execution_count": null,
   "id": "ac675be4-b6c2-45df-8c3a-293b757f201f",
   "metadata": {},
   "outputs": [],
   "source": [
    "with open(osp.join(tmp_outputs.meta_cifar10_datasets, 'meta_cifar10_datasets.json'), 'r') as f:\n",
    "   categories = json.load(f)"
   ]
  },
  {
   "cell_type": "markdown",
   "id": "2fa11faa-585c-4e91-b199-6c4eda7fc7c3",
   "metadata": {},
   "source": [
    "### Get image pathes for cifar10 test dataset"
   ]
  },
  {
   "cell_type": "code",
   "execution_count": null,
   "id": "23287d73-20aa-4451-909a-3e89b782bb9d",
   "metadata": {},
   "outputs": [],
   "source": [
    "dir_test_cifar10_dataset = tmp_outputs.cifar10_test_dataset\n",
    "class_ids = os.listdir(dir_test_cifar10_dataset)\n",
    "test_cifar10_dataset = []\n",
    "for class_id in class_ids:\n",
    "    # Get images from train dataset\n",
    "    for image_name in os.listdir(osp.join(dir_test_cifar10_dataset, class_id)):        \n",
    "        image_path = osp.join(dir_test_cifar10_dataset, class_id, image_name)\n",
    "        if osp.isdir(image_path):\n",
    "            continue\n",
    "        test_cifar10_dataset.append(image_path)"
   ]
  },
  {
   "cell_type": "markdown",
   "id": "7c8b0ff5-33d6-4ad9-8385-a699d7add1f8",
   "metadata": {},
   "source": [
    "### Inference classificator on a test dataset for val step"
   ]
  },
  {
   "cell_type": "code",
   "execution_count": null,
   "id": "ddc2ebc3-843b-42e1-ab04-16ce0e8fdd7f",
   "metadata": {},
   "outputs": [],
   "source": [
    "out_predict_cifar10_test_dataset = []\n",
    "\n",
    "for image_path in tqdm(test_cifar10_dataset, desc='process predict'):\n",
    "    image_name = osp.basename(image_path)\n",
    "    ground_true_class_index = int(osp.basename(osp.dirname(image_path)))\n",
    "    ground_true_class_name = categories[str(ground_true_class_index)]\n",
    "    predict_result = bento_service.predict(image_path)\n",
    "    predict_class_index = predict_result[\"class_ids\"][0]\n",
    "    predict_class_name = predict_result[\"class_names\"][0]\n",
    "    predict_class_score = predict_result[\"class_scores\"][0]\n",
    "    out_predict_cifar10_test_dataset.append(\n",
    "        {\"image_path\": image_path,\n",
    "         \"image_name\": image_name,\n",
    "         \"ground_true_class_index\": ground_true_class_index,\n",
    "         \"ground_true_class_name\": ground_true_class_name,\n",
    "         \"predict_class_index\": predict_class_index,\n",
    "         \"predict_class_name\": predict_class_name,\n",
    "         \"predict_class_score\": predict_class_score}\n",
    "    )\n",
    "    \n",
    "# save result of predict for cifar10 test datasets\n",
    "with open(osp.join(tmp_outputs.cifar10_inference_result_dataset, 'val_cifar10_dataset.json'), 'w') as f:\n",
    "    json.dump(out_predict_cifar10_test_dataset, f)"
   ]
  },
  {
   "cell_type": "markdown",
   "id": "693eb04b-4460-4285-8043-b1558ada5190",
   "metadata": {
    "tags": []
   },
   "source": [
    "### Preview of classification on an image"
   ]
  },
  {
   "cell_type": "code",
   "execution_count": null,
   "id": "a14128cf-5867-4e03-aa49-f2e6630b5b9c",
   "metadata": {},
   "outputs": [],
   "source": [
    "# Let's view more images in a grid format\n",
    "# Define the dimensions of the plot grid \n",
    "W_grid = 5\n",
    "H_grid = 5\n",
    "\n",
    "# fig, axes = plt.subplots(H_grid, W_grid)\n",
    "# subplot return the figure object and axes object\n",
    "# we can use the axes object to plot specific figures at various locations\n",
    "fig, axes = plt.subplots(H_grid, W_grid, figsize = (10,10))\n",
    "\n",
    "axes = axes.ravel() # flaten the 15 x 15 matrix into 225 array\n",
    "\n",
    "n_images = len(out_predict_cifar10_test_dataset) # get the length of the  dataset\n",
    "\n",
    "# Select a random number from 0 to n_train\n",
    "for i in range(W_grid * H_grid): # create evenly spaces variables \n",
    "    # Select a random number\n",
    "    index = np.random.randint(0, n_images)\n",
    "    # read and display an image with the selected index\n",
    "    predict_sample = out_predict_cifar10_test_dataset[index]\n",
    "    img_path = predict_sample[\"image_path\"]\n",
    "    ground_true_class_name = predict_sample[\"ground_true_class_name\"]\n",
    "    predict_class_name = predict_sample[\"predict_class_name\"]\n",
    "    img = cv2.imread(img_path)\n",
    "    img = cv2.cvtColor(img, cv2.COLOR_BGR2RGB)\n",
    "    axes[i].imshow(img)\n",
    "    axes[i].set_title(f\"GT: {ground_true_class_name} \\n Predict:{predict_class_name}\", fontsize = 8)\n",
    "    axes[i].axis('off')\n",
    "\n",
    "plt.subplots_adjust(hspace=0.4)"
   ]
  },
  {
   "cell_type": "code",
   "execution_count": null,
   "id": "07ceb2bb-f016-42de-bbcc-56b1b7864ad7",
   "metadata": {
    "tags": []
   },
   "outputs": [],
   "source": [
    "# stop spark\n",
    "SinaraSpark.stop_session()"
   ]
  },
  {
   "cell_type": "code",
   "execution_count": null,
   "id": "269d7cfc-81d8-4dd6-b346-06b690e1d121",
   "metadata": {},
   "outputs": [],
   "source": []
  }
 ],
 "metadata": {
  "kernelspec": {
   "display_name": "cv",
   "language": "python",
   "name": "python3"
  },
  "language_info": {
   "codemirror_mode": {
    "name": "ipython",
    "version": 3
   },
   "file_extension": ".py",
   "mimetype": "text/x-python",
   "name": "python",
   "nbconvert_exporter": "python",
   "pygments_lexer": "ipython3",
   "version": "3.10.12"
  }
 },
 "nbformat": 4,
 "nbformat_minor": 5
}
